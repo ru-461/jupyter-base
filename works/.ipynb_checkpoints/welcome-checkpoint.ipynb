{
 "cells": [
  {
   "cell_type": "markdown",
   "metadata": {},
   "source": [
    "# Welcome!!"
   ]
  },
  {
   "cell_type": "code",
   "execution_count": 1,
   "metadata": {},
   "outputs": [
    {
     "name": "stdout",
     "output_type": "stream",
     "text": [
      "hello,world\n"
     ]
    }
   ],
   "source": [
    "print('hello,world')"
   ]
  },
  {
   "cell_type": "code",
   "execution_count": 1,
   "metadata": {},
   "outputs": [
    {
     "name": "stdout",
     "output_type": "stream",
     "text": [
      "Package                        Version\n",
      "------------------------------ -----------\n",
      "anyio                          3.6.2\n",
      "argon2-cffi                    21.3.0\n",
      "argon2-cffi-bindings           21.2.0\n",
      "arrow                          1.2.3\n",
      "asttokens                      2.2.1\n",
      "attrs                          22.2.0\n",
      "Babel                          2.11.0\n",
      "backcall                       0.2.0\n",
      "beautifulsoup4                 4.11.1\n",
      "black                          22.12.0\n",
      "bleach                         5.0.1\n",
      "certifi                        2022.12.7\n",
      "cffi                           1.15.1\n",
      "charset-normalizer             2.1.1\n",
      "click                          8.1.3\n",
      "comm                           0.1.2\n",
      "debugpy                        1.6.5\n",
      "decorator                      5.1.1\n",
      "defusedxml                     0.7.1\n",
      "entrypoints                    0.4\n",
      "executing                      1.2.0\n",
      "fastjsonschema                 2.16.2\n",
      "fqdn                           1.5.1\n",
      "idna                           3.4\n",
      "ipykernel                      6.20.1\n",
      "ipython                        8.8.0\n",
      "ipython-genutils               0.2.0\n",
      "isoduration                    20.11.0\n",
      "isort                          5.11.4\n",
      "jedi                           0.18.2\n",
      "Jinja2                         3.1.2\n",
      "json5                          0.9.11\n",
      "jsonpointer                    2.3\n",
      "jsonschema                     4.17.3\n",
      "jupyter_client                 7.4.8\n",
      "jupyter_core                   5.1.3\n",
      "jupyter-events                 0.6.0\n",
      "jupyter_server                 2.0.6\n",
      "jupyter_server_terminals       0.4.4\n",
      "jupyterlab                     3.5.2\n",
      "jupyterlab-code-formatter      1.5.3\n",
      "jupyterlab-language-pack-ja-JP 3.5.post4\n",
      "jupyterlab-pygments            0.2.2\n",
      "jupyterlab_server              2.18.0\n",
      "MarkupSafe                     2.1.1\n",
      "matplotlib-inline              0.1.6\n",
      "mistune                        2.0.4\n",
      "mypy-extensions                0.4.3\n",
      "nbclassic                      0.4.8\n",
      "nbclient                       0.7.2\n",
      "nbconvert                      7.2.7\n",
      "nbformat                       5.7.1\n",
      "nest-asyncio                   1.5.6\n",
      "notebook                       6.5.2\n",
      "notebook_shim                  0.2.2\n",
      "packaging                      23.0\n",
      "pandocfilters                  1.5.0\n",
      "parso                          0.8.3\n",
      "pathspec                       0.10.3\n",
      "pexpect                        4.8.0\n",
      "pickleshare                    0.7.5\n",
      "pip                            22.3.1\n",
      "platformdirs                   2.6.2\n",
      "prometheus-client              0.15.0\n",
      "prompt-toolkit                 3.0.36\n",
      "psutil                         5.9.4\n",
      "ptyprocess                     0.7.0\n",
      "pure-eval                      0.2.2\n",
      "pycparser                      2.21\n",
      "Pygments                       2.14.0\n",
      "pyrsistent                     0.19.3\n",
      "python-dateutil                2.8.2\n",
      "python-json-logger             2.0.4\n",
      "pytz                           2022.7\n",
      "PyYAML                         6.0\n",
      "pyzmq                          24.0.1\n",
      "requests                       2.28.1\n",
      "rfc3339-validator              0.1.4\n",
      "rfc3986-validator              0.1.1\n",
      "Send2Trash                     1.8.0\n",
      "setuptools                     65.5.1\n",
      "six                            1.16.0\n",
      "sniffio                        1.3.0\n",
      "soupsieve                      2.3.2.post1\n",
      "stack-data                     0.6.2\n",
      "terminado                      0.17.1\n",
      "tinycss2                       1.2.1\n",
      "tomli                          2.0.1\n",
      "tornado                        6.2\n",
      "traitlets                      5.8.1\n",
      "uri-template                   1.2.0\n",
      "urllib3                        1.26.13\n",
      "wcwidth                        0.2.5\n",
      "webcolors                      1.12\n",
      "webencodings                   0.5.1\n",
      "websocket-client               1.4.2\n",
      "wheel                          0.38.4\n",
      "Note: you may need to restart the kernel to use updated packages.\n"
     ]
    }
   ],
   "source": [
    "pip list"
   ]
  }
 ],
 "metadata": {
  "kernelspec": {
   "display_name": "Python 3 (ipykernel)",
   "language": "python",
   "name": "python3"
  },
  "language_info": {
   "codemirror_mode": {
    "name": "ipython",
    "version": 3
   },
   "file_extension": ".py",
   "mimetype": "text/x-python",
   "name": "python",
   "nbconvert_exporter": "python",
   "pygments_lexer": "ipython3",
   "version": "3.10.9"
  },
  "vscode": {
   "interpreter": {
    "hash": "5c7b89af1651d0b8571dde13640ecdccf7d5a6204171d6ab33e7c296e100e08a"
   }
  }
 },
 "nbformat": 4,
 "nbformat_minor": 4
}
